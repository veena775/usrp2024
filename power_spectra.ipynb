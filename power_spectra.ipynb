{
 "cells": [
  {
   "cell_type": "code",
   "execution_count": 1,
   "id": "3d6e851b-bc38-4567-ad01-0c75753a3c2c",
   "metadata": {},
   "outputs": [],
   "source": [
    "#installation:\n",
    "#https://pylians3.readthedocs.io/_/downloads/en/master/pdf/\n",
    "import numpy as np\n",
    "import matplotlib.pyplot as plt\n",
    "import MAS_library as MASL\n",
    "import Pk_library as PKL"
   ]
  },
  {
   "cell_type": "markdown",
   "id": "c2fdd07b-b1fb-4f0f-a9ee-fe1a791d02ec",
   "metadata": {},
   "source": [
    "# Week 1: Make a power spectrum"
   ]
  },
  {
   "cell_type": "code",
   "execution_count": 95,
   "id": "f391a382-01db-494e-b0ad-2dabe62101d9",
   "metadata": {},
   "outputs": [
    {
     "name": "stdout",
     "output_type": "stream",
     "text": [
      "999.99792\n",
      "0.00989\n"
     ]
    }
   ],
   "source": [
    "## Load Halo from: https://quijote-simulations.readthedocs.io/en/latest/halos.html\n",
    "# catalog file\n",
    "#'/home/fvillaescusa/Quijote/Halos/fiducial/0/out_4_pid.list'\n",
    "f_catalog = '/scratch/network/vk9342/hlist_1.00000.list'\n",
    "\n",
    "# read the halo catalog\n",
    "data = np.loadtxt(f_catalog)\n",
    "\n",
    "# we can now get the different properties of the halos\n",
    "Mvir = data[:,10]\n",
    "sam_Mvir = data[:,9]\n",
    "# Vmax = data[:,3]\n",
    "# PID  = data[:,41]\n",
    "x = data[:,17]\n",
    "y = data[:,18]\n",
    "z = data[:,19]\n",
    "\n",
    "print(max(x))\n",
    "print(min(x))"
   ]
  },
  {
   "cell_type": "code",
   "execution_count": 96,
   "id": "96b63cfd-d5d4-4c57-95e6-db5334e2d72f",
   "metadata": {
    "scrolled": true
   },
   "outputs": [],
   "source": [
    "## Compute density field delta\n",
    "# https://pylians3.readthedocs.io/en/master/construction.html\n",
    "\n",
    "# number of particles\n",
    "Np = 128**3\n",
    "\n",
    "# density field parameters\n",
    "grid    = 128*4    #the 3D field will have grid x grid x grid voxels\n",
    "BoxSize = 1000.0 #Mpc/h ; size of box\n",
    "MAS     = 'TSC'  #mass-assigment scheme   \n",
    "verbose = False   #print information on progress\n",
    "\n",
    "## particle positions in 3D\n",
    "#pos = np.random.random((Np,3)).astype(np.float32)*BoxSize \n",
    "pos = np.vstack((x, y, z)).T  \n",
    "pos = pos.astype(np.float32)/BoxSize                    \n",
    "\n",
    "\n",
    "# define 3D density field\n",
    "delta = np.zeros((grid,grid,grid), dtype=np.float32)\n",
    "\n",
    "# construct 3D density field\n",
    "MASL.MA(pos, delta, BoxSize, MAS, verbose=verbose)\n",
    "\n",
    "# at this point, delta contains the effective number of particles in each voxel\n",
    "# now compute overdensity and density constrast\n",
    "delta /= np.mean(delta, dtype=np.float64);  delta -= 1.0"
   ]
  },
  {
   "cell_type": "code",
   "execution_count": 97,
   "id": "4c7fade2-738e-454e-9edd-0fc3e05bcd4f",
   "metadata": {},
   "outputs": [],
   "source": [
    "## Make power spectrum \n",
    "# compute power spectrum\n",
    "axis = 0  #Axis along which compute the quadrupole, hexadecapole and the 2D power spectrum.\n",
    "threads = 1  #Number of openmp threads to be used\n",
    "Pk = PKL.Pk(delta, BoxSize, axis, MAS, threads, verbose) \n",
    "\n",
    "# Pk is a python class containing the 1D, 2D and 3D power spectra, that can be retrieved as\n",
    "\n",
    "# 1D P(k)\n",
    "k1D      = Pk.k1D\n",
    "Pk1D     = Pk.Pk1D\n",
    "Nmodes1D = Pk.Nmodes1D\n",
    "\n",
    "# 2D P(k)\n",
    "kpar     = Pk.kpar\n",
    "kper     = Pk.kper\n",
    "Pk2D     = Pk.Pk2D\n",
    "Nmodes2D = Pk.Nmodes2D\n",
    "\n",
    "# 3D P(k)  #WHAT IS THE DIFFERENCE BETWEEN EACH ONE\n",
    "k       = Pk.k3D\n",
    "Pk0     = Pk.Pk[:,0] #monopole\n",
    "Pk2     = Pk.Pk[:,1] #quadrupole\n",
    "Pk4     = Pk.Pk[:,2] #hexadecapole\n",
    "Pkphase = Pk.Pkphase #power spectrum of the phases\n",
    "Nmodes  = Pk.Nmodes3D\n"
   ]
  },
  {
   "cell_type": "code",
   "execution_count": 99,
   "id": "de427a34-a26f-4878-a45b-014d68c9465e",
   "metadata": {},
   "outputs": [
    {
     "data": {
      "text/plain": [
       "Text(0, 0.5, 'Pk [(Mpc/h)^3]')"
      ]
     },
     "execution_count": 99,
     "metadata": {},
     "output_type": "execute_result"
    },
    {
     "data": {
      "image/png": "[encoded data removed]",
      "text/plain": [
       "<Figure size 640x480 with 1 Axes>"
      ]
     },
     "metadata": {},
     "output_type": "display_data"
    }
   ],
   "source": [
    "## Plot power spectrum\n",
    "\n",
    "plt.loglog(k1D, Pk1D, 'ro', alpha = 0.1)\n",
    "plt.xlabel('k [h/Mpc]')\n",
    "plt.ylabel('Pk [(Mpc/h)^3]')"
   ]
  },
  {
   "cell_type": "code",
   "execution_count": 100,
   "id": "32e93903-7306-44e8-bd93-98b391a8e2ef",
   "metadata": {},
   "outputs": [
    {
     "name": "stdout",
     "output_type": "stream",
     "text": [
      "Pk shape: (443, 3)\n",
      "Halo mass [4.419e+15 3.258e+15 2.958e+15 ... 7.222e+12 6.566e+12 3.283e+12]\n",
      "delta: [[[ 3.90901600e+07  1.76131720e+07  3.32000580e+01 ... -1.00000000e+00\n",
      "   -1.00000000e+00  2.38160925e+06]\n",
      "  [ 1.72648320e+07  7.79310600e+06  1.49526014e+01 ... -1.00000000e+00\n",
      "   -1.00000000e+00  1.05084975e+06]\n",
      "  [ 3.19807053e+01  1.43570518e+01 -9.99963343e-01 ... -1.00000000e+00\n",
      "   -1.00000000e+00  8.86980891e-01]\n",
      "  ...\n",
      "  [-1.00000000e+00 -1.00000000e+00 -1.00000000e+00 ... -1.00000000e+00\n",
      "   -1.00000000e+00 -1.00000000e+00]\n",
      "  [-1.00000000e+00 -1.00000000e+00 -1.00000000e+00 ... -1.00000000e+00\n",
      "   -1.00000000e+00 -1.00000000e+00]\n",
      "  [ 2.43135600e+06  1.09598238e+06  9.36568022e-01 ... -1.00000000e+00\n",
      "   -1.00000000e+00  1.47281625e+05]]\n",
      "\n",
      " [[ 1.75582480e+07  7.90228350e+06  1.39291258e+01 ... -1.00000000e+00\n",
      "   -1.00000000e+00  1.07338850e+06]\n",
      "  [ 7.74778250e+06  3.49563100e+06  5.94198895e+00 ... -1.00000000e+00\n",
      "   -1.00000000e+00  4.73456969e+05]\n",
      "  [ 1.49990425e+01  6.35280561e+00 -9.99989867e-01 ... -1.00000000e+00\n",
      "   -1.00000000e+00 -7.41318464e-02]\n",
      "  ...\n",
      "  [-1.00000000e+00 -1.00000000e+00 -1.00000000e+00 ... -1.00000000e+00\n",
      "   -1.00000000e+00 -1.00000000e+00]\n",
      "  [-1.00000000e+00 -1.00000000e+00 -1.00000000e+00 ... -1.00000000e+00\n",
      "   -1.00000000e+00 -1.00000000e+00]\n",
      "  [ 1.09683838e+06  4.92819344e+05 -1.44625783e-01 ... -1.00000000e+00\n",
      "   -1.00000000e+00  6.67887891e+04]]\n",
      "\n",
      " [[ 3.28427353e+01  1.39483099e+01 -9.99976754e-01 ... -1.00000000e+00\n",
      "   -1.00000000e+00  1.13658047e+00]\n",
      "  [ 1.46296415e+01  5.76007891e+00 -9.99989152e-01 ... -1.00000000e+00\n",
      "   -1.00000000e+00  1.82338953e-02]\n",
      "  [-9.99927163e-01 -9.99968410e-01 -1.00000000e+00 ... -1.00000000e+00\n",
      "   -1.00000000e+00 -9.99995530e-01]\n",
      "  ...\n",
      "  [-1.00000000e+00 -1.00000000e+00 -1.00000000e+00 ... -1.00000000e+00\n",
      "   -1.00000000e+00 -1.00000000e+00]\n",
      "  [-1.00000000e+00 -1.00000000e+00 -1.00000000e+00 ... -1.00000000e+00\n",
      "   -1.00000000e+00 -1.00000000e+00]\n",
      "  [ 1.04286933e+00 -5.46660423e-02 -9.99998748e-01 ... -1.00000000e+00\n",
      "   -1.00000000e+00 -8.80071521e-01]]\n",
      "\n",
      " ...\n",
      "\n",
      " [[-1.00000000e+00 -1.00000000e+00 -1.00000000e+00 ... -1.00000000e+00\n",
      "   -1.00000000e+00 -1.00000000e+00]\n",
      "  [-1.00000000e+00 -1.00000000e+00 -1.00000000e+00 ... -1.00000000e+00\n",
      "   -1.00000000e+00 -1.00000000e+00]\n",
      "  [-1.00000000e+00 -1.00000000e+00 -1.00000000e+00 ... -1.00000000e+00\n",
      "   -1.00000000e+00 -1.00000000e+00]\n",
      "  ...\n",
      "  [-1.00000000e+00 -1.00000000e+00 -1.00000000e+00 ... -1.00000000e+00\n",
      "   -1.00000000e+00 -1.00000000e+00]\n",
      "  [-1.00000000e+00 -1.00000000e+00 -1.00000000e+00 ... -1.00000000e+00\n",
      "   -1.00000000e+00 -1.00000000e+00]\n",
      "  [-1.00000000e+00 -1.00000000e+00 -1.00000000e+00 ... -1.00000000e+00\n",
      "   -1.00000000e+00 -1.00000000e+00]]\n",
      "\n",
      " [[-1.00000000e+00 -1.00000000e+00 -1.00000000e+00 ... -1.00000000e+00\n",
      "   -1.00000000e+00 -1.00000000e+00]\n",
      "  [-1.00000000e+00 -1.00000000e+00 -1.00000000e+00 ... -1.00000000e+00\n",
      "   -1.00000000e+00 -1.00000000e+00]\n",
      "  [-1.00000000e+00 -1.00000000e+00 -1.00000000e+00 ... -1.00000000e+00\n",
      "   -1.00000000e+00 -1.00000000e+00]\n",
      "  ...\n",
      "  [-1.00000000e+00 -1.00000000e+00 -1.00000000e+00 ... -1.00000000e+00\n",
      "   -1.00000000e+00 -1.00000000e+00]\n",
      "  [-1.00000000e+00 -1.00000000e+00 -1.00000000e+00 ... -1.00000000e+00\n",
      "   -1.00000000e+00 -1.00000000e+00]\n",
      "  [-1.00000000e+00 -1.00000000e+00 -1.00000000e+00 ... -1.00000000e+00\n",
      "   -1.00000000e+00 -1.00000000e+00]]\n",
      "\n",
      " [[ 2.39166275e+06  1.08017725e+06  1.16215992e+00 ... -1.00000000e+00\n",
      "   -1.00000000e+00  1.44676531e+05]\n",
      "  [ 1.05991188e+06  4.78629781e+05 -1.33293867e-03 ... -1.00000000e+00\n",
      "   -1.00000000e+00  6.40854297e+04]\n",
      "  [ 8.10116172e-01 -1.42212451e-01 -9.99996305e-01 ... -1.00000000e+00\n",
      "   -1.00000000e+00 -8.97981048e-01]\n",
      "  ...\n",
      "  [-1.00000000e+00 -1.00000000e+00 -1.00000000e+00 ... -1.00000000e+00\n",
      "   -1.00000000e+00 -1.00000000e+00]\n",
      "  [-1.00000000e+00 -1.00000000e+00 -1.00000000e+00 ... -1.00000000e+00\n",
      "   -1.00000000e+00 -1.00000000e+00]\n",
      "  [ 1.47134812e+05  6.68021250e+04 -8.75013590e-01 ... -1.00000000e+00\n",
      "   -1.00000000e+00  8.80097949e+03]]]\n"
     ]
    }
   ],
   "source": [
    "print('Pk shape:', Pk.Pk.shape)\n",
    "print('Halo mass', Mvir)\n",
    "print ('delta:', delta)"
   ]
  },
  {
   "cell_type": "markdown",
   "id": "0a3b5edb-b398-4e38-ad77-628969b1242b",
   "metadata": {},
   "source": [
    "# Power spectra from Quijote"
   ]
  },
  {
   "cell_type": "code",
   "execution_count": 6,
   "id": "04a8bffc-95f7-4552-9039-181efb5fbc43",
   "metadata": {},
   "outputs": [],
   "source": [
    "## https://quijote-simulations.readthedocs.io/en/latest/Pk.html\n",
    "\n",
    "###       Linear power spectra #######\n",
    "\n",
    "# f_Pk   = '/home/fvillaescusa/Quijote/Linear_Pk/ns_p/CAMB_TABLES/CAMB_matterpow_0.dat'\n",
    "# f_norm = '/home/fvillaescusa/Quijote/Linear_Pk/ns_p/Normfac.txt'\n",
    "f_Pk   = 'CAMB_matterpow_0.dat'\n",
    "f_norm = 'Normfac.txt'\n",
    "\n",
    "\n",
    "k, Pk   = np.loadtxt(f_Pk, unpack=True)\n",
    "Normfac = np.loadtxt(f_norm)\n",
    "\n",
    "Pk_norm = Pk*Normfac\n",
    "\n",
    "# ###     Non-linear power spectra #######\n",
    "\n",
    "# k, Pk = np.loadtxt('/home/fvillaescusa/Quijote/Pk/matter/fiducial/3/Pk_m_z=0.txt', unpack=True)\n",
    "# k, Pk0, Pk2, Pk4 = np.loadtxt('/home/fvillaescusa/Quijote/Pk/matter/fiducial/3/Pk_m_RS1_z=0.txt', unpack=True)\n",
    "\n",
    "\n",
    "# ###      Marked power spectra #######\n",
    "# f = h5py.File(FILENAME, 'r')\n",
    "# k = f['k'][:]\n",
    "# # Fiducial cosmology\n",
    "# Mk = f['i'][:]\n",
    "# # Massive neutrino cosmologies\n",
    "# Mk = f['cosmo/i_suffix'][:]\n",
    "# # Other cosmologies\n",
    "# Mk = f['cosmo/i'][:]"
   ]
  },
  {
   "cell_type": "code",
   "execution_count": 7,
   "id": "13026f7f-66fc-48ba-b7f1-7e67ec06919b",
   "metadata": {},
   "outputs": [
    {
     "data": {
      "image/png": "[encoded data removed]",
      "text/plain": [
       "<Figure size 640x480 with 1 Axes>"
      ]
     },
     "metadata": {},
     "output_type": "display_data"
    }
   ],
   "source": [
    "## Plot power spectrum\n",
    "# Plot the power spectrum\n",
    "plt.figure()\n",
    "plt.loglog(k, Pk_norm)\n",
    "plt.xlabel('k')\n",
    "plt.ylabel('P(k)')\n",
    "plt.title('Normalized Power Spectrum')\n",
    "plt.show()"
   ]
  },
  {
   "cell_type": "markdown",
   "id": "3adffa4f-3575-458f-bfb8-9d041e33ccc3",
   "metadata": {},
   "source": [
    "- I'm assuming that the columns called x, y and z in the file you gave m are the positions?\n",
    "otherwise all clear\n",
    "- What exactly is MAS and what is the difference between the possible options ('NGP', 'CIC', 'TSC', 'PCS')?\n",
    "- I think I understand the rest except for  MASL.MA (I see that it makes the density field, don't know how it does that though?)\n",
    "- Don't know what axis and theards are?\n",
    "- Don't quite understand the difference between the 3 power spectra and like what is monopole quadrupole etc?"
   ]
  },
  {
   "cell_type": "code",
   "execution_count": null,
   "id": "115bcd18-feff-42c4-b282-c5c3a2933442",
   "metadata": {
    "jupyter": {
     "source_hidden": true
    }
   },
   "outputs": [],
   "source": [
    "# first is just amplitufe\n",
    "# dipoel e"
   ]
  }
 ],
 "metadata": {
  "kernelspec": {
   "display_name": "Python 3 (ipykernel)",
   "language": "python",
   "name": "python3"
  },
  "language_info": {
   "codemirror_mode": {
    "name": "ipython",
    "version": 3
   },
   "file_extension": ".py",
   "mimetype": "text/x-python",
   "name": "python",
   "nbconvert_exporter": "python",
   "pygments_lexer": "ipython3",
   "version": "3.11.3"
  }
 },
 "nbformat": 4,
 "nbformat_minor": 5
}
