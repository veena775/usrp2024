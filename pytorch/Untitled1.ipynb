{
 "cells": [
  {
   "cell_type": "code",
   "execution_count": null,
   "id": "879a5d02-624a-462d-9a73-8efab1638f58",
   "metadata": {},
   "outputs": [],
   "source": [
    "import numpy as np\n",
    "\n",
    "\n",
    "\n",
    "file_path = '/scratch/network/vk9342/marked_latin_hypercube_nwLH/'\n",
    "file_name = '/Pk_m_marked_fTH_R10.0_p2.0_ds0.25_z0.txt'\n",
    "\n",
    "f_params  = '../real_params/latin_hypercube_params_'+str(cosm_type)+'.txt' "
   ]
  }
 ],
 "metadata": {
  "kernelspec": {
   "display_name": "Python 3 (ipykernel)",
   "language": "python",
   "name": "python3"
  },
  "language_info": {
   "codemirror_mode": {
    "name": "ipython",
    "version": 3
   },
   "file_extension": ".py",
   "mimetype": "text/x-python",
   "name": "python",
   "nbconvert_exporter": "python",
   "pygments_lexer": "ipython3",
   "version": "3.11.3"
  }
 },
 "nbformat": 4,
 "nbformat_minor": 5
}
