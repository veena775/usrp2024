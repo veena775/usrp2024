{
 "cells": [
  {
   "cell_type": "code",
   "execution_count": 1,
   "id": "d8a041b8-10e9-43e0-831e-64586357f080",
   "metadata": {},
   "outputs": [
    {
     "name": "stdout",
     "output_type": "stream",
     "text": [
      "13400\n",
      "(32767, 79)\n",
      "(32767, 5)\n"
     ]
    }
   ],
   "source": [
    "import numpy as np\n",
    "import matplotlib.pyplot as plt\n",
    "import os\n",
    "\n",
    "k_max = 0.5\n",
    "file_path = '/scratch/network/vk9342/MPk_BSQ/'\n",
    "# file_name = '/Pk_m_z=0.txt'\n",
    "file_name = '/Pk_m_marked_fTH_R10.0_p2.0_ds0.25_z0.txt'\n",
    "params  = np.loadtxt('../real_params/BSQ_params.txt')\n",
    "params_filtered = []\n",
    "\n",
    "Pks = []\n",
    "ks = []\n",
    "for i in range(32768):\n",
    "    file = file_path+str(i)+file_name\n",
    "    if os.path.exists(file): \n",
    "        params_filtered.append(params[i])\n",
    "        data = np.loadtxt(file_path+str(i)+file_name, unpack=True) #load file of index \n",
    "        Pk = data[1, :]\n",
    "        k = data[0, :]\n",
    "        Pk_filtered = []\n",
    "        k_filtered = []\n",
    "        for j in range (len(Pk)):  #loop through Pk values from one Pk file\n",
    "            if k[j] <= k_max:\n",
    "                Pk_filtered.append(Pk[j])  #get Pks with corresponding k values less than k_max\n",
    "                k_filtered.append(k[j])\n",
    "        Pks.append(Pk_filtered)   \n",
    "    else:\n",
    "        print(i)\n",
    "\n",
    "    # plt.loglog(k_filtered, Pk_filtered)\n",
    "    # plt.title('nwLH, MPk')\n",
    "    # print (np.sum(np.array(Pk_filtered) < 0))\n",
    "\n",
    "\n",
    "\n",
    "params_filtered = np.array(params_filtered)\n",
    "Pks = np.array(Pks)   #Pks from all Pk files\n",
    "np.save('all_MPk_BSQ', Pks)\n",
    "np.savetxt('../real_params/BSQ_params_filtered.txt', params_filtered)\n",
    "print(Pks.shape)\n",
    "print(params_filtered.shape)"
   ]
  },
  {
   "cell_type": "code",
   "execution_count": null,
   "id": "2c80b300-7e3f-4926-a6a5-403ea4e600b6",
   "metadata": {},
   "outputs": [],
   "source": []
  }
 ],
 "metadata": {
  "kernelspec": {
   "display_name": "Python 3 (ipykernel)",
   "language": "python",
   "name": "python3"
  },
  "language_info": {
   "codemirror_mode": {
    "name": "ipython",
    "version": 3
   },
   "file_extension": ".py",
   "mimetype": "text/x-python",
   "name": "python",
   "nbconvert_exporter": "python",
   "pygments_lexer": "ipython3",
   "version": "3.11.3"
  }
 },
 "nbformat": 4,
 "nbformat_minor": 5
}
