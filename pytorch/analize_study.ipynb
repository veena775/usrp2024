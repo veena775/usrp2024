{
 "cells": [
  {
   "cell_type": "code",
   "execution_count": 3,
   "id": "18bc8617-7cde-4dfa-8a2e-1c344e65ad33",
   "metadata": {},
   "outputs": [
    {
     "name": "stdout",
     "output_type": "stream",
     "text": [
      "Found 100 trials\n",
      "\n",
      "Best trials:\n",
      "study 0075 ----> score: 8.14563e-02\n",
      "study 0085 ----> score: 8.14678e-02\n",
      "study 0041 ----> score: 8.14770e-02\n",
      "study 0020 ----> score: 8.15090e-02\n",
      "study 0049 ----> score: 8.15403e-02\n",
      "study 0083 ----> score: 8.15445e-02\n",
      "study 0099 ----> score: 8.15613e-02\n",
      "study 0054 ----> score: 8.15640e-02\n",
      "study 0015 ----> score: 8.15656e-02\n",
      "study 0026 ----> score: 8.15671e-02\n",
      "\n",
      "Best trial:  number 75\n",
      "  Value:  0.08145632078250249\n",
      " Params: \n",
      "    lr: 0.001507282004395858\n",
      "    wd: 0.0001044250955142741\n",
      "    n_layers: 3\n",
      "    n_units_l0: 53\n",
      "    dropout_l0: 0.5855786345154023\n",
      "    n_units_l1: 121\n",
      "    dropout_l1: 0.6118648785077512\n",
      "    dropout_final_hidden: 0.40298027932891856\n"
     ]
    },
    {
     "data": {
      "text/plain": [
       "\"\\n# get the importances of the different hyperparameters\\nimportances = optuna.importance.get_param_importances(study)\\nprint('\\nImportances:')\\nfor key in importances:\\n    print('{} {}'.format(key, importances[key]))\\n\""
      ]
     },
     "execution_count": 3,
     "metadata": {},
     "output_type": "execute_result"
    }
   ],
   "source": [
    "# This script load a study and output some information about it\n",
    "import numpy as np\n",
    "import optuna\n",
    "\n",
    "################################## INPUT ########################################\n",
    "# study parameters\n",
    "study_name = 'Pk_nwLH_params_transfer_497'\n",
    "storage    = 'sqlite:///nwLH.db'\n",
    "\n",
    "# whether print information of a particular trial\n",
    "individual_trials = None #if None, nothing is printed\n",
    "#################################################################################\n",
    "\n",
    "# load the study\n",
    "study = optuna.load_study(study_name=study_name, storage=storage)\n",
    "\n",
    "# get the number of trials\n",
    "trials = len(study.trials)\n",
    "print('Found %d trials'%trials)\n",
    "\n",
    "# get the scores of the trials and print the top-10\n",
    "values = np.zeros(trials)\n",
    "for i,t in enumerate(study.trials):\n",
    "    values[i] = t.value\n",
    "\n",
    "indexes = np.argsort(values)\n",
    "print('\\nBest trials:')\n",
    "for i in range(10):\n",
    "    print('study %04d ----> score: %.5e'%(indexes[i], values[indexes[i]]))\n",
    "\n",
    "# get the info of the best trial\n",
    "trial = study.best_trial\n",
    "print(\"\\nBest trial:  number {}\".format(trial.number))\n",
    "print(\"  Value: \", trial.value)\n",
    "print(\" Params: \")\n",
    "for key, value in trial.params.items():\n",
    "    print(\"    {}: {}\".format(key, value))\n",
    "\n",
    "if individual_trials is not None:\n",
    "    for trial_number in individual_trials:\n",
    "        trial = study.trials[trial_number]\n",
    "        print(\" \\nTrial number {}\".format(trial_number))\n",
    "        print(\"  Value: \", trial.value)\n",
    "        print(\" Params: \")\n",
    "        for key, value in trial.params.items():\n",
    "            print(\"    {}: {}\".format(key, value))\n",
    "\n",
    "\"\"\"\n",
    "# read some parameters from the trials and save results to a .txt file\n",
    "lr   = np.zeros(10000, dtype=np.float64)\n",
    "wd   = np.zeros(10000, dtype=np.float64)\n",
    "nl   = np.zeros(10000, dtype=np.float64)\n",
    "loss = np.zeros(10000, dtype=np.float64)\n",
    "for i,t in enumerate(study.trials):\n",
    "    if i>=10000:  break\n",
    "    lr[i]   = t.params['lr']\n",
    "    wd[i]   = t.params['wd']\n",
    "    nl[i]   = t.params['n_layers']\n",
    "    loss[i] = t.value\n",
    "np.savetxt('borrar.txt',np.transpose([np.arange(10000),nl,lr,wd,loss]))\n",
    "\"\"\"\n",
    "\"\"\"\n",
    "# get the importances of the different hyperparameters\n",
    "importances = optuna.importance.get_param_importances(study)\n",
    "print('\\nImportances:')\n",
    "for key in importances:\n",
    "    print('{} {}'.format(key, importances[key]))\n",
    "\"\"\""
   ]
  },
  {
   "cell_type": "code",
   "execution_count": null,
   "id": "03310f70-97ba-46a2-acbd-e11fae1cc5c8",
   "metadata": {},
   "outputs": [],
   "source": []
  }
 ],
 "metadata": {
  "kernelspec": {
   "display_name": "Python 3 (ipykernel)",
   "language": "python",
   "name": "python3"
  },
  "language_info": {
   "codemirror_mode": {
    "name": "ipython",
    "version": 3
   },
   "file_extension": ".py",
   "mimetype": "text/x-python",
   "name": "python",
   "nbconvert_exporter": "python",
   "pygments_lexer": "ipython3",
   "version": "3.11.3"
  }
 },
 "nbformat": 4,
 "nbformat_minor": 5
}
